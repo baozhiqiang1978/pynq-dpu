{
 "cells": [
  {
   "cell_type": "code",
   "execution_count": 5,
   "metadata": {},
   "outputs": [
    {
     "ename": "SyntaxError",
     "evalue": "invalid syntax (<ipython-input-5-871632f77bef>, line 10)",
     "output_type": "error",
     "traceback": [
      "\u001b[0;36m  File \u001b[0;32m\"<ipython-input-5-871632f77bef>\"\u001b[0;36m, line \u001b[0;32m10\u001b[0m\n\u001b[0;31m    ./a.jpg\u001b[0m\n\u001b[0m    ^\u001b[0m\n\u001b[0;31mSyntaxError\u001b[0m\u001b[0;31m:\u001b[0m invalid syntax\n"
     ]
    }
   ],
   "source": [
    "from PIL import Image as PIL_Image\n",
    "\n",
    "orig_img_path = './a.jpg'\n",
    "!fswebcam  --no-banner --save {orig_img_path} -d /dev/video0 2> /dev/null\n",
    "\n",
    "img = PIL_Image.open(orig_img_path)\n",
    "img\n",
    "\n"
   ]
  },
  {
   "cell_type": "code",
   "execution_count": 4,
   "metadata": {},
   "outputs": [
    {
     "name": "stdout",
     "output_type": "stream",
     "text": [
      "\n",
      "####################################################\n",
      "Warning:                                            \n",
      "The DPU in this TRD can only work 8 hours each time!\n",
      "Please consult Sales for more details about this!   \n",
      "####################################################\n",
      "\n",
      "\n",
      "Load image: tmp\n",
      "[Top 0] prob = 0.748915  name = computer keyboard, keypad\n",
      "[Top 1] prob = 0.167105  name = space bar\n",
      "[Top 2] prob = 0.078935  name = typewriter keyboard\n",
      "[Top 3] prob = 0.003930  name = mouse, computer mouse\n",
      "[Top 4] prob = 0.000414  name = notebook, notebook computer\n",
      "\n",
      "####################################################\n",
      "Warning:                                            \n",
      "The DPU in this TRD can only work 8 hours each time!\n",
      "Please consult Sales for more details about this!   \n",
      "####################################################\n",
      "\n"
     ]
    }
   ],
   "source": [
    "\n",
    "#cap.release()\n",
    "!./resnet50"
   ]
  },
  {
   "cell_type": "code",
   "execution_count": null,
   "metadata": {},
   "outputs": [],
   "source": []
  }
 ],
 "metadata": {
  "kernelspec": {
   "display_name": "Python 3",
   "language": "python",
   "name": "python3"
  },
  "language_info": {
   "codemirror_mode": {
    "name": "ipython",
    "version": 3
   },
   "file_extension": ".py",
   "mimetype": "text/x-python",
   "name": "python",
   "nbconvert_exporter": "python",
   "pygments_lexer": "ipython3",
   "version": "3.6.5"
  }
 },
 "nbformat": 4,
 "nbformat_minor": 2
}
